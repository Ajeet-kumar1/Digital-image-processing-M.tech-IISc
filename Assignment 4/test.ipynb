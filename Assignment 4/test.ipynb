{
 "cells": [
  {
   "cell_type": "code",
   "execution_count": 1,
   "metadata": {},
   "outputs": [],
   "source": [
    "import cv2\n",
    "import numpy as np\n",
    "from matplotlib import pyplot as plt\n",
    "from scipy import ndimage\n",
    "\n"
   ]
  },
  {
   "cell_type": "code",
   "execution_count": 2,
   "metadata": {},
   "outputs": [],
   "source": [
    "image1 = cv2.imread('Images\\Checkerboard.png')\n",
    "image = cv2.imread('Images\\Checkerboard.png', 0)\n",
    "\n",
    "P, Q = image.shape"
   ]
  },
  {
   "cell_type": "code",
   "execution_count": 3,
   "metadata": {},
   "outputs": [],
   "source": [
    "SOBEL_X = np.array((\n",
    "    [-1, 0, 1],\n",
    "    [-2, 0, 2],\n",
    "    [-1, 0, 1]), dtype=\"int32\")\n",
    "\n",
    "# Sobel y-axis kernel\n",
    "SOBEL_Y = np.array((\n",
    "    [-1, -2, -1],\n",
    "    [0, 0, 0],\n",
    "    [1, 2, 1]), dtype=\"int32\")\n",
    "\n",
    "# Gaussian kernel\n",
    "GAUSS = np.array((\n",
    "    [1/16, 2/16, 1/16],\n",
    "    [2/16, 4/16, 2/16],\n",
    "    [1/16, 2/16, 1/16]), dtype=\"float64\")"
   ]
  },
  {
   "cell_type": "code",
   "execution_count": 4,
   "metadata": {},
   "outputs": [],
   "source": [
    "\n",
    "Ix = ndimage.convolve(image, SOBEL_X, mode='constant', cval=0.0)\n",
    "Iy = ndimage.convolve(image, SOBEL_Y, mode='constant', cval=0.0)\n"
   ]
  },
  {
   "cell_type": "code",
   "execution_count": 5,
   "metadata": {},
   "outputs": [
    {
     "data": {
      "text/plain": [
       "(1200, 1200)"
      ]
     },
     "execution_count": 5,
     "metadata": {},
     "output_type": "execute_result"
    }
   ],
   "source": [
    "Ixx = np.square(Ix)\n",
    "Iyy = np.square(Iy)\n",
    "Ixy = Ix * Iy\n",
    "Ixy.shape"
   ]
  },
  {
   "cell_type": "code",
   "execution_count": 6,
   "metadata": {},
   "outputs": [],
   "source": [
    "\n",
    "Ixx  = ndimage.convolve(Ix, GAUSS, mode='constant', cval=0.0)\n",
    "\n",
    "Iyy  = ndimage.convolve(Iy, GAUSS, mode='constant', cval=0.0)\n",
    "\n",
    "Ixy  = ndimage.convolve(Ixy, GAUSS, mode='constant', cval=0.0)\n"
   ]
  },
  {
   "cell_type": "code",
   "execution_count": 7,
   "metadata": {},
   "outputs": [],
   "source": [
    "from scipy.ndimage import gaussian_filter\n",
    "Ixx = gaussian_filter(Ix**2, sigma=2)\n",
    "Ixy = gaussian_filter(Iy*Ix, sigma=2)\n",
    "Iyy = gaussian_filter(Iy**2, sigma=2)"
   ]
  },
  {
   "cell_type": "code",
   "execution_count": 8,
   "metadata": {},
   "outputs": [],
   "source": [
    "detM = Ixx * Iyy - Ixy **2\n",
    "traceM = Ixx + Iyy\n",
    "k = 0.05\n",
    "harris_response = detM - k * traceM ** 2\n",
    "\n"
   ]
  },
  {
   "cell_type": "code",
   "execution_count": 9,
   "metadata": {},
   "outputs": [],
   "source": [
    "#img_copy_for_corners = np.copy(image1)\n",
    "#np.copy(image1)\n",
    "P, Q = harris_response.shape\n",
    "img_copy_for_edges = np.zeros([P, Q])\n",
    "img_copy_for_corners = np.zeros([P,Q])"
   ]
  },
  {
   "cell_type": "markdown",
   "metadata": {},
   "source": []
  },
  {
   "cell_type": "markdown",
   "metadata": {},
   "source": []
  },
  {
   "cell_type": "code",
   "execution_count": 10,
   "metadata": {},
   "outputs": [
    {
     "data": {
      "text/plain": [
       "<matplotlib.image.AxesImage at 0x215630f0820>"
      ]
     },
     "execution_count": 10,
     "metadata": {},
     "output_type": "execute_result"
    },
    {
     "data": {
      "image/png": "[encoded data removed]",
      "text/plain": [
       "<Figure size 640x480 with 2 Axes>"
      ]
     },
     "metadata": {},
     "output_type": "display_data"
    }
   ],
   "source": [
    "for i in range(P):\n",
    "    for j in range(Q):\n",
    "        if harris_response[i][j] > 0:\n",
    "            img_copy_for_corners[i][j] = 255 #[255, 0, 0]\n",
    "        elif harris_response[i][j] < 0:\n",
    "            img_copy_for_edges[i][j] = 255#[255, 0, 0]\n",
    "plt.subplot(1, 2,1)\n",
    "plt.imshow(img_copy_for_corners, cmap='gray')\n",
    "plt.subplot(1, 2,2)\n",
    "plt.imshow(img_copy_for_edges, cmap='gray')"
   ]
  },
  {
   "cell_type": "code",
   "execution_count": 11,
   "metadata": {},
   "outputs": [
    {
     "ename": "ValueError",
     "evalue": "setting an array element with a sequence.",
     "output_type": "error",
     "traceback": [
      "\u001b[1;31m---------------------------------------------------------------------------\u001b[0m",
      "\u001b[1;31mTypeError\u001b[0m                                 Traceback (most recent call last)",
      "\u001b[1;31mTypeError\u001b[0m: float() argument must be a string or a real number, not 'list'",
      "\nThe above exception was the direct cause of the following exception:\n",
      "\u001b[1;31mValueError\u001b[0m                                Traceback (most recent call last)",
      "Cell \u001b[1;32mIn [11], line 5\u001b[0m\n\u001b[0;32m      2\u001b[0m \u001b[39mfor\u001b[39;00m colindex, r \u001b[39min\u001b[39;00m \u001b[39menumerate\u001b[39m(response):\n\u001b[0;32m      3\u001b[0m     \u001b[39mif\u001b[39;00m r \u001b[39m>\u001b[39m \u001b[39m0\u001b[39m:\n\u001b[0;32m      4\u001b[0m         \u001b[39m# this is a corner\u001b[39;00m\n\u001b[1;32m----> 5\u001b[0m         img_copy_for_corners[rowindex, colindex] \u001b[39m=\u001b[39m [\u001b[39m255\u001b[39m,\u001b[39m0\u001b[39m,\u001b[39m0\u001b[39m]\n\u001b[0;32m      6\u001b[0m     \u001b[39melif\u001b[39;00m r \u001b[39m<\u001b[39m \u001b[39m0\u001b[39m:\n\u001b[0;32m      7\u001b[0m         \u001b[39m# this is an edge\u001b[39;00m\n\u001b[0;32m      8\u001b[0m         \u001b[39mtry\u001b[39;00m:\n",
      "\u001b[1;31mValueError\u001b[0m: setting an array element with a sequence."
     ]
    }
   ],
   "source": [
    "\n",
    "for rowindex, response in enumerate(harris_response):\n",
    "    for colindex, r in enumerate(response):\n",
    "        if r > 0:\n",
    "            # this is a corner\n",
    "            img_copy_for_corners[rowindex, colindex] = [255,0,0]\n",
    "        elif r < 0:\n",
    "            # this is an edge\n",
    "            try:\n",
    "                img_copy_for_edges[rowindex, colindex] = [0,0 ,0]\n",
    "                img_copy_for_edges[rowindex-1, colindex-1] = [0,0 ,0]\n",
    "                img_copy_for_edges[rowindex+1, colindex+1] = [0,0 ,0]\n",
    "            except:\n",
    "                 IndexError\n",
    "    \n"
   ]
  },
  {
   "cell_type": "code",
   "execution_count": 179,
   "metadata": {},
   "outputs": [],
   "source": [
    "x = np.array((\n",
    "    [0, 1, 2],\n",
    "    [3, 4, 5],\n",
    "    [6, 7, 8]), dtype=\"int32\")\n",
    "y = x"
   ]
  },
  {
   "cell_type": "code",
   "execution_count": 178,
   "metadata": {},
   "outputs": [
    {
     "name": "stdout",
     "output_type": "stream",
     "text": [
      "0 [0 1 2]\n",
      "0 0\n",
      "1 1\n",
      "2 2\n",
      "1 [3 4 5]\n",
      "0 3\n",
      "1 4\n",
      "2 5\n",
      "2 [6 7 8]\n",
      "0 6\n",
      "1 7\n",
      "2 8\n"
     ]
    }
   ],
   "source": [
    "for index_row, row in enumerate(x):\n",
    "    #print(index_row, row)\n",
    "    for col_n, i in enumerate(row):\n",
    "        if i >0:\n",
    "            x[index_row, col_n] = 255\n",
    "        else\n",
    "        #print(col_n, i)"
   ]
  },
  {
   "cell_type": "code",
   "execution_count": 12,
   "metadata": {},
   "outputs": [],
   "source": [
    "image = cv2.imread('Images/MainBuilding.png')"
   ]
  },
  {
   "cell_type": "code",
   "execution_count": 17,
   "metadata": {},
   "outputs": [
    {
     "data": {
      "text/plain": [
       "<matplotlib.image.AxesImage at 0x2156a72da80>"
      ]
     },
     "execution_count": 17,
     "metadata": {},
     "output_type": "execute_result"
    },
    {
     "data": {
      "image/png": "[encoded data removed]",
      "text/plain": [
       "<Figure size 640x480 with 1 Axes>"
      ]
     },
     "metadata": {},
     "output_type": "display_data"
    }
   ],
   "source": [
    "\n",
    "\n",
    "# convert the input image into\n",
    "# grayscale color space\n",
    "operatedImage = cv2.cvtColor(image, cv2.COLOR_BGR2GRAY)\n",
    "\n",
    "# modify the data type\n",
    "# setting to 32-bit floating point\n",
    "operatedImage = np.float32(operatedImage)\n",
    "\n",
    "# apply the cv2.cornerHarris method\n",
    "# to detect the corners with appropriate\n",
    "# values as input parameters\n",
    "dest = cv2.cornerHarris(operatedImage, 2, 5, 0.07)\n",
    "\n",
    "# Results are marked through the dilated corners\n",
    "dest = cv2.dilate(dest, None)\n",
    "\n",
    "# Reverting back to the original image,\n",
    "# with optimal threshold value\n",
    "image[dest > 0.01 * dest.max()]=[0, 0, 255]\n",
    "\n",
    "# the window showing output image with corners\n",
    "plt.imshow(image)\n",
    "\n"
   ]
  },
  {
   "cell_type": "code",
   "execution_count": null,
   "metadata": {},
   "outputs": [],
   "source": []
  }
 ],
 "metadata": {
  "kernelspec": {
   "display_name": "Python 3.10.8 64-bit (microsoft store)",
   "language": "python",
   "name": "python3"
  },
  "language_info": {
   "codemirror_mode": {
    "name": "ipython",
    "version": 3
   },
   "file_extension": ".py",
   "mimetype": "text/x-python",
   "name": "python",
   "nbconvert_exporter": "python",
   "pygments_lexer": "ipython3",
   "version": "3.10.8"
  },
  "orig_nbformat": 4,
  "vscode": {
   "interpreter": {
    "hash": "d126d3c9c2805be32137cffa916c36fbeccc087d8d0449bc030ab88d1069c92a"
   }
  }
 },
 "nbformat": 4,
 "nbformat_minor": 2
}
